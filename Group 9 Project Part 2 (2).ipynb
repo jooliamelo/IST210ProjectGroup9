{
 "cells": [
  {
   "cell_type": "markdown",
   "metadata": {},
   "source": [
    "<b>Project Part 2 - Chosen: Idea 3</b>\n",
    "\n",
    "Julia Barbosa Cardoso de Melo\n",
    "\n",
    "Yu Zhong \n",
    "\n",
    "Soham Bhattacharya \n",
    "\n",
    "Brandon Dawkin "
   ]
  },
  {
   "cell_type": "markdown",
   "metadata": {},
   "source": [
    "An online shopping platform, based in the US, where users are made able to search for a product, and the website will produce results for every single possible item it can find (that is for sale on the internet) that has at least one keyword that the customer entered. It is similar to a traditional search engine like Google, but it’s for online shopping only and its layout is more reminiscent of an online retailer than that of a search engine. It’s called “Google Shopping”. The user can create an account and use it to check out any item they want from any online retail website on the internet through just one intermediary site. It acts almost like a middle-man between online shoppers and just about the entirety of the online retail universe, and is a veritable one-stop for all available retail products on the internet. The customer goes on our website, searches up what they are looking for, pores over the results, selects whichever product they’d like to purchase, checks it (or them) out, and the item(s) is shipped to them from the original website where the item was being sold in the first place, and we receive a 5% commission if the sale was placed through our website. This makes online shopping much, much simpler for consumers and we work closely with many brands, popular and not, in order to offer our customers discounted items. This venture is unique because it allows for people to be able to find and purchase virtually any legal product they could possibly want through one website since it is connected to just about every other online retailer that exists (even those that are based in different countries). This business may be similar to Amazon in some ways but offers even more. In order for Google Shopping to function at its highest capability, we’d need to have a database of all the items that are being sold online, customer information, transportation information, and what type of items are being sold (clothing, home goods, beauty, etc). Our main goal is to find out which types of items are selling the most.\n",
    "\n"
   ]
  },
  {
   "cell_type": "markdown",
   "metadata": {},
   "source": [
    "<b>Table 1: CustomerID</b>. This table will provide the information we need to know about the customer in order to be able to ship out the item and receive payment for it. This data can include their full legal name, date of birth, etc. A lot of this data can be dynamic because the customer can update their information whenever they see fit, as it changes. \n",
    "\n",
    "<b>Table 2: Transaction</b>. This table will provide all the information we need in order to receive a payment for an item. Such as their billing address, payment information (i.e. CVV/security code, credit/debit card number, PayPal account information), etc. This table is connected to table one because we need customer information to be able to complete a successful transaction. This table’s data could also be dynamic because a customer can have multiple payment methods and/or change payment methods, credit card providers, etc. at any time in the future. \n",
    "\n",
    "<b>Table 3: Transportation</b>. In order to ship out an item to a customer, we need to know their CustomerID information. We need to know where the item is leaving from, when it will reach its destination, the customer address, full legal name, etc. This table will provide the customer with an estimated arrival date with time constraints (upper and lower limits as to when the product may arrive) which may vary based on the particular item and the customer’s home/billing address. Therefore, this table, in conjunction with other tables, will provide our company with all the information needed in order to ship each item successfully. \n",
    "\n",
    "<b>Table 4: ItemID</b>. This table will help us identify which specific items are being shipped out to each customer. Since this website is a third-party online retailer we’d need to know who the original seller or distributor, is in order to figure out and display where the item is leaving from, the price of the item (so the customer can pay for it), with a lower bound constraint at $0, since a product cannot cost less than that, and a high upper bound constraint, based on the item, to prevent an item’s price from being unreasonably high, etc. This table is very important for us to attain our end goal of finding out which types of items sell the most. \n",
    "\n",
    "<b>Table 5: ItemType</b>. This table is critical to reaching our goal of figuring out what type of item sells the most. It lists all the different items that are available on the website sorted into a few different categories: Fashion, Home Goods, Electronics, Arts and Crafts, and Beauty. When combined with the ItemID table, it can be used to find out which types of items are selling the most.\n"
   ]
  },
  {
   "attachments": {},
   "cell_type": "markdown",
   "metadata": {},
   "source": [
    "<img style=\"width:520px;max-width:100%;\" src=\"https://i.imgur.com/955CLGK.png\" alt=\"Idea 2\" title=\"Table\">"
   ]
  }
 ],
 "metadata": {
  "kernelspec": {
   "display_name": "Python 3",
   "language": "python",
   "name": "python3"
  },
  "language_info": {
   "codemirror_mode": {
    "name": "ipython",
    "version": 3
   },
   "file_extension": ".py",
   "mimetype": "text/x-python",
   "name": "python",
   "nbconvert_exporter": "python",
   "pygments_lexer": "ipython3",
   "version": "3.7.3"
  }
 },
 "nbformat": 4,
 "nbformat_minor": 2
}
