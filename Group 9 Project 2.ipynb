{
 "cells": [
  {
   "cell_type": "markdown",
   "metadata": {},
   "source": [
    "<b>Group Project 2</b>\n",
    "\n",
    "Julia Barbosa Cardoso de Melo \n",
    "\n",
    "Soham Bhattacharya \n",
    "\n",
    "Brandon Dawkin \n",
    "\n",
    "Yu Zhong "
   ]
  },
  {
   "cell_type": "markdown",
   "metadata": {},
   "source": [
    "An online shopping platform, based in the US, where users are made able to search for a product, and the website will produce results for every single possible item it can find (that is for sale on the internet) that has at least one keyword that the customer entered. It is similar to a traditional search engine like Google, but it’s for online shopping only and its layout is more reminiscent of an online retailer than that of a search engine. It’s called “Google Shopping”. The user can create an account and use it to check out any item they want from any online retail website on the internet through just one intermediary site. It acts almost like a middle-man between online shoppers and just about the entirety of the online retail universe, and is a veritable one-stop for all available retail products on the internet. The customer goes on our website, searches up what they are looking for, pores over the results, selects whichever product they’d like to purchase, checks it (or them) out, and the item(s) is shipped to them from the original website where the item was being sold in the first place, and we receive a 5% commission if the sale was placed through our website. This makes online shopping much, much simpler for consumers and we work closely with many brands, popular and not, in order to offer our customers discounted items. This venture is unique because it allows for people to be able to find and purchase virtually any legal product they could possibly want through one website since it is connected to just about every other online retailer that exists (even those that are based in different countries). This business may be similar to Amazon in some ways but offers even more. In order for Google Shopping to function at its highest capability, we’d need to have a database of all the items that are being sold online, customer information, transportation information, and what type of items are being sold (clothing, home goods, beauty, etc). Our main goal is to find out which types of items are selling the most.\n",
    "\n",
    "<b>Table 1:</b> Customers. This table has the Primary Key <b>CustomerID</b> and will provide the information we need to know about the customer in order to be able to ship out the item and receive payment for it. The attributes contained in this table are Name (the customer’s full legal name), Address (the customer’s most current home/billing address), Payment (the customer’s payment information), and e-mail (in order to communicate with the customer about transaction confirmations, order status, when their order will arrive, promotions, sales, etc). A lot of this data can be dynamic because the customer can update their personal information whenever they see fit, as it changes. \n",
    "\n",
    "<b>Table 2:</b> Transaction. This table’s Primary Key is <b>TransactionID</b>, and it will provide information about all the transactions that occur through the website. Much of this is just customer personal information which is already stored under the Primary Key<b> CustomerID</b>, so <b>CustomerID</b> is brought in here as a Foreign Key. Also, information about the item being purchased is also necessary, so the Foreign Key <b>ItemID</b> is also brought in here. The other attributes in the table are TransactionDate (the date the transaction was completed) and ArrivalDate (the date that the product will arrive to the customer’s Address). \n",
    "\n",
    "<b>Table 3:</b> Transportation. This table’s Primary Key is <b>TransportationInfo</b>. In order to ship out an item to a customer, we need to know their <b>CustomerID</b> information, so this is why it is brought in as a Foreign Key here. We also need to know where the item is leaving from (thus the LeavingFacilityAddress attribute), the Route that will be taken to ship the item to the customer and information about the item itself, which is contained in the Foreign Key <b>ItemID</b>. The <b>ItemID</b> attributes ShippingPrice and ItemPrice will allow for the total Cost of the item to be calculated and stored here. Therefore, this table, in conjunction with other tables, will provide our company with all the information needed in order to ship each item successfully. \n",
    "\n",
    "<b>Table 4:</b> Item. This table’s Primary Key is <b>ItemID</b>, and it will help us identify which specific items are being shipped out to each customer. Since this website is a third-party online retailer, we’d need to know who the original seller or distributor (stored in the OriginalSeller attribute) is in order to figure out and display where the item is leaving from, the price of the item before shipping costs (ItemPrice), and the ShippingPrice, the latter two of which having a lower bound constraint at $0, since a product cannot cost less than that, and a high upper bound constraint, based on the item, to prevent an item’s price from being unreasonably high, etc. There is a BarCode attribute to help with identification of each item, and the Foreign Key <b>ItemType</b> to help assign This table is very important for us to attain our end goal of finding out which types of items sell the most. \n",
    "\n",
    "<b>Table 5:</b> Type of Items. This table’s Primary Key is <b>ItemType</b>, and it is critical to reaching our goal of figuring out what type of item sells the most. It lists all the different items that are available on the website sorted into a few different categories: Fashion, Home Goods, Electronics, Arts and Crafts, and Beauty. \n"
   ]
  },
  {
   "cell_type": "markdown",
   "metadata": {},
   "source": [
    "<img style=\"width:520px;max-width:100%;\" src=\"https://i.imgur.com/LxT2IBv.png\" alt=\"Idea 1\" title=\"Table\">"
   ]
  }
 ],
 "metadata": {
  "kernelspec": {
   "display_name": "Python 3",
   "language": "python",
   "name": "python3"
  },
  "language_info": {
   "codemirror_mode": {
    "name": "ipython",
    "version": 3
   },
   "file_extension": ".py",
   "mimetype": "text/x-python",
   "name": "python",
   "nbconvert_exporter": "python",
   "pygments_lexer": "ipython3",
   "version": "3.7.3"
  }
 },
 "nbformat": 4,
 "nbformat_minor": 2
}
