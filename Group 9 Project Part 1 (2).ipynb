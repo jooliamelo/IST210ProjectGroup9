{
 "cells": [
  {
   "attachments": {},
   "cell_type": "markdown",
   "metadata": {},
   "source": [
    "<b>Group 9 Project Part 1</b>\n",
    "\n",
    "Julia Barbosa Cardoso de Melo \n",
    "\n",
    "Yu Zhong \n",
    "\n",
    "Soham Bhattacharya \n",
    "\n",
    "Brandon Dawkin \n",
    "\n",
    "\n",
    "<b>Idea 1</b>:\n",
    "\n",
    "An application like Venmo and PayPal. It’s another method of payment in the U.S. It not only contains the money that expands and income of a person but also can analyze the consumption habits of people and give some suggestions to them through their spending. I want to follow the example of Alipay in China to build a simple application to achieve the goal. I think it is unique because it combines two applications like Paypal and Amazon together into one. It is a tool that helps people to pay and also can record the consumption habit. It can drive people to consume to help merchants promote their goods and make more money. Firstly, we need to build a database for collecting customers' basic information that Name, Bank Info, Age, and Social Security number. Secondly, we need to record their expend and income each month in one year. Third, the most important part. We need to record the customers usually buy what kinds of stuff, how much of them, and their consuming times per week or per month. I think people who work in this application need to get consumers' information every day, put it into the system, then the system will analyze them in databases and give some suggestions to users.\n",
    "\n",
    "<b>Table 1: Customer Information</b>. This part could help us collect the information of  consumers. We can send some ads to his email that promotes sellers’ goods, and it is an effective way to let our users know the first-hand information of us and the goods they want. Also this application is like Venmo and Paypal. So the email is a tool to verify their information and remind them about their banks’ account.\n",
    "\n",
    "<b>Table 2: Expand</b>. We need to know how much our user expend per month. Then we can know the prices of  goods between what interval are fit to our users. And we can find usually people spend their money on which part. \n",
    "\n",
    "<b>Table 3: Income</b>. We need to know how much people make per month. And they spend their money on what part, like food, entertainment, or work. So we can search and match the suitable goods for them.\n",
    "\n",
    "<b>Table 4: Analyze</b>. All data shows in this table, then the system will analyze them in the databasement and help us integrate and analyze information quickly. Finally, showing the results for us and users. The system can remember what their traces. And when those people use this application next time, it can show the results quickly.\n",
    "\n",
    "<b>Table 5: Suggestions</b>. This table is shown for users and consumers. We save our analysis and ideas about their consumption direction in this table. Then it can be a quick link that people can search what they like and get the suitable information for them.\n",
    "\n",
    "<img style=\"width:520px;max-width:100%;\" src=\"https://i.imgur.com/7UAq6XH.png\" alt=\"Idea 1\" title=\"Table\">\n",
    "\n"
   ]
  },
  {
   "attachments": {},
   "cell_type": "markdown",
   "metadata": {},
   "source": [
    "<b>Idea 2</b>:\n",
    "\n",
    "Another idea is to create a database for a vending machine company. This company will have vending machines in many locations and the machines will need to be restocked as items sell out. This is a brand new business. The company will have a warehouse storing all of the extra vending machines and products that go inside of the machines. When the vending machines need to be restocked, employees will deliver more products to the location of the machines. While there the employees will also collect the money inside the machine. All of the snacks will be the same throughout all vending machines.\n",
    "\n",
    "<b>Table 1</b> - Items</b>: This table contains all of the information about the snacks that will be inside of our vending machines and where each snack is located. This is important to know so that all of the vending machines keep the same layout. The barcode of each item is how we distinguish between all of the different items. There is a minimum constraint of $0 for cost.  \n",
    "\n",
    "<b>Table 2 - Transaction</b>: The transaction table stores everything we need to know about every transaction that happens. It stores things like what type of item was purchased, how much the item cost, how the customer paid, and which vending machine this transaction happened at. This is our real-time/dynamic database. We do not know the information inside of this until a customer makes a transaction.\n",
    "\n",
    "<b>Table 3 - Vending Machines</b>: The vending machine table stores information about every vending machine. This is important to us because it allows us to track information about each vending machine such as the location and the items currently inside the machine. This company is only in the state of Pennsylvania so a constraint on the location of the machines is PA.\n",
    "Table 4 - Employees: This database will store information about each employee. Some things included in this table are the employee’s name, address, date of birth, and more. This is important so that we can keep track of all of the employees working for the company. A constraint is that all employees must be at least 18 years of age.\n",
    "\n",
    "<b>Table 5 - Transport Trucks</b>: The transport trucks will transport snacks to refill vending machines and vending machines for new locations as well. We are keeping track of the truck's information and also keeping track of the trucks next delivery and the employee responsible for driving that truck.\n",
    "\n",
    "<img style=\"width:520px;max-width:100%;\" src=\"https://i.imgur.com/E0A6brS.png\" alt=\"Idea 2\" title=\"Table\">\n"
   ]
  },
  {
   "attachments": {},
   "cell_type": "markdown",
   "metadata": {},
   "source": [
    "<b>Idea 3</b>:\n",
    "\n",
    "An online shopping website that the user can go on and the website links to every single possible item it can find (that is for sale on the internet) that has at least one keyword that the customer entered. It is similar to Google but it’s for online shopping only and it has an online retailer layout more than a search engine. It’s called “Google Shopping”. The user can create an account and use it to check out any item they want from any website through one website. The customer goes on our website, searches up what they are looking for, finds it, checks out and the item is shipped to them from the original website that sells the item and we receive a 5% commission if the sale was placed on our website. This makes online shopping much easier and we work with brands to be able to offer our customers discounted items. It’s unique because now people can go on one single website and be able to find anything they could possibly want since the website is connected to every other online retailer that exits (even in different countries). This is a brand new business, it is similar to Amazon but offers even more. We’d need to have a database of all the items that are being sold online, customer information, transportation information, what type of item it is (clothing, home goods, beauty, etc). The goal is to find out which type of item sells the most. \n",
    "\n",
    "<b>Table 1: CustomerID</b>. This table will provide the information we need to know about the customer in order to be able to ship out the item and receive payment for it. The data can be dynamic because the customer can update their information whenever. \n",
    "    \n",
    "<b>Table 2: Transaction</b>. This table will provide all the information we need in order to receive a payment for an item. Such as the credit card number, billing address, etc. This table is connected to table one because we need customer information to be able to complete a successful transaction. This could also be dynamic because a customer could have multiple payment methods.\n",
    "    \n",
    "<b>Table 3: Transportation</b>. In order to ship out the item to the customer, we need to know the CustomerID information. We need to know where the item is leaving from, when will it get there, the customer address, name, etc. This table will provide the customer with an estimated arrival date and provide our company with all the information needed in order to ship the item successfully. One of the constraints of this table is that the shipping price will always have to be above 0 and cannot be a negative number.\n",
    "    \n",
    "<b>Table 4: ItemID</b>. This table will help us know which item is being shipped out to the customer. Since this is a third party online retailer we’d need to know who the original seller is in order to know where the item is leaving from, the price of the item so the customer can pay for it, etc. This table is very important for us to reach our goal of finding how which type of item sells the most. One of the constraints of this table is that the price will always have to be above 0 and cannot be a negative number.\n",
    "    \n",
    "<b>Table 5: ItemType</b>. This table is essential in reaching our goal of figuring out what type of item sells the most. This table has all the different items that are available on our website and when connected to the ItemID table it we’ll be able to find out which types of items are selling the most. \n",
    "\n",
    "<img style=\"width:520px;max-width:100%;\" src=\"https://i.imgur.com/955CLGK.png\" alt=\"Idea 2\" title=\"Table\">"
   ]
  }
 ],
 "metadata": {
  "kernelspec": {
   "display_name": "Python 3",
   "language": "python",
   "name": "python3"
  },
  "language_info": {
   "codemirror_mode": {
    "name": "ipython",
    "version": 3
   },
   "file_extension": ".py",
   "mimetype": "text/x-python",
   "name": "python",
   "nbconvert_exporter": "python",
   "pygments_lexer": "ipython3",
   "version": "3.7.3"
  }
 },
 "nbformat": 4,
 "nbformat_minor": 2
}
